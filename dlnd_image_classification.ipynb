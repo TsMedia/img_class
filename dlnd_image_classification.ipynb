{
 "cells": [
  {
   "cell_type": "markdown",
   "metadata": {
    "collapsed": true
   },
   "source": [
    "# Image Classification\n",
    "In this project, you'll classify images from the [CIFAR-10 dataset](https://www.cs.toronto.edu/~kriz/cifar.html).  The dataset consists of airplanes, dogs, cats, and other objects. You'll preprocess the images, then train a convolutional neural network on all the samples. The images need to be normalized and the labels need to be one-hot encoded.  You'll get to apply what you learned and build a convolutional, max pooling, dropout, and fully connected layers.  At the end, you'll get to see your neural network's predictions on the sample images.\n",
    "## Get the Data\n",
    "Run the following cell to download the [CIFAR-10 dataset for python](https://www.cs.toronto.edu/~kriz/cifar-10-python.tar.gz)."
   ]
  },
  {
   "cell_type": "code",
   "execution_count": 1,
   "metadata": {},
   "outputs": [
    {
     "name": "stdout",
     "output_type": "stream",
     "text": [
      "All files found!\n"
     ]
    }
   ],
   "source": [
    "\"\"\"\n",
    "DON'T MODIFY ANYTHING IN THIS CELL THAT IS BELOW THIS LINE\n",
    "\"\"\"\n",
    "from urllib.request import urlretrieve\n",
    "from os.path import isfile, isdir\n",
    "from tqdm import tqdm\n",
    "import problem_unittests as tests\n",
    "import tarfile\n",
    "\n",
    "cifar10_dataset_folder_path = 'cifar-10-batches-py'\n",
    "\n",
    "# Use Floyd's cifar-10 dataset if present\n",
    "floyd_cifar10_location = '/input/cifar-10/python.tar.gz'\n",
    "if isfile(floyd_cifar10_location):\n",
    "    tar_gz_path = floyd_cifar10_location\n",
    "else:\n",
    "    tar_gz_path = 'cifar-10-python.tar.gz'\n",
    "\n",
    "class DLProgress(tqdm):\n",
    "    last_block = 0\n",
    "\n",
    "    def hook(self, block_num=1, block_size=1, total_size=None):\n",
    "        self.total = total_size\n",
    "        self.update((block_num - self.last_block) * block_size)\n",
    "        self.last_block = block_num\n",
    "\n",
    "if not isfile(tar_gz_path):\n",
    "    with DLProgress(unit='B', unit_scale=True, miniters=1, desc='CIFAR-10 Dataset') as pbar:\n",
    "        urlretrieve(\n",
    "            'https://www.cs.toronto.edu/~kriz/cifar-10-python.tar.gz',\n",
    "            tar_gz_path,\n",
    "            pbar.hook)\n",
    "\n",
    "if not isdir(cifar10_dataset_folder_path):\n",
    "    with tarfile.open(tar_gz_path) as tar:\n",
    "        tar.extractall()\n",
    "        tar.close()\n",
    "\n",
    "\n",
    "tests.test_folder_path(cifar10_dataset_folder_path)"
   ]
  },
  {
   "cell_type": "markdown",
   "metadata": {},
   "source": [
    "## Explore the Data\n",
    "The dataset is broken into batches to prevent your machine from running out of memory.  The CIFAR-10 dataset consists of 5 batches, named `data_batch_1`, `data_batch_2`, etc.. Each batch contains the labels and images that are one of the following:\n",
    "* airplane\n",
    "* automobile\n",
    "* bird\n",
    "* cat\n",
    "* deer\n",
    "* dog\n",
    "* frog\n",
    "* horse\n",
    "* ship\n",
    "* truck\n",
    "\n",
    "Understanding a dataset is part of making predictions on the data.  Play around with the code cell below by changing the `batch_id` and `sample_id`. The `batch_id` is the id for a batch (1-5). The `sample_id` is the id for a image and label pair in the batch.\n",
    "\n",
    "Ask yourself \"What are all possible labels?\", \"What is the range of values for the image data?\", \"Are the labels in order or random?\".  Answers to questions like these will help you preprocess the data and end up with better predictions."
   ]
  },
  {
   "cell_type": "code",
   "execution_count": 2,
   "metadata": {},
   "outputs": [
    {
     "name": "stdout",
     "output_type": "stream",
     "text": [
      "\n",
      "Stats of batch 1:\n",
      "Samples: 10000\n",
      "Label Counts: {0: 1005, 1: 974, 2: 1032, 3: 1016, 4: 999, 5: 937, 6: 1030, 7: 1001, 8: 1025, 9: 981}\n",
      "First 20 Labels: [6, 9, 9, 4, 1, 1, 2, 7, 8, 3, 4, 7, 7, 2, 9, 9, 9, 3, 2, 6]\n",
      "\n",
      "Example of Image 5:\n",
      "Image - Min Value: 0 Max Value: 252\n",
      "Image - Shape: (32, 32, 3)\n",
      "Label - Label Id: 1 Name: automobile\n"
     ]
    },
    {
     "data": {
      "image/png": "[encoded data removed]",
      "text/plain": [
       "<matplotlib.figure.Figure at 0x7ff2ee17b748>"
      ]
     },
     "metadata": {
      "image/png": {
       "height": 250,
       "width": 253
      }
     },
     "output_type": "display_data"
    }
   ],
   "source": [
    "%matplotlib inline\n",
    "%config InlineBackend.figure_format = 'retina'\n",
    "\n",
    "import helper\n",
    "import numpy as np\n",
    "from sklearn import preprocessing\n",
    "\n",
    "# Explore the dataset\n",
    "batch_id = 1\n",
    "sample_id = 5\n",
    "helper.display_stats(cifar10_dataset_folder_path, batch_id, sample_id)"
   ]
  },
  {
   "cell_type": "markdown",
   "metadata": {},
   "source": [
    "## Implement Preprocess Functions\n",
    "### Normalize\n",
    "In the cell below, implement the `normalize` function to take in image data, `x`, and return it as a normalized Numpy array. The values should be in the range of 0 to 1, inclusive.  The return object should be the same shape as `x`."
   ]
  },
  {
   "cell_type": "code",
   "execution_count": 3,
   "metadata": {},
   "outputs": [
    {
     "name": "stdout",
     "output_type": "stream",
     "text": [
      "Tests Passed\n"
     ]
    }
   ],
   "source": [
    "def normalize(x):\n",
    "    \"\"\"\n",
    "    Normalize a list of sample image data in the range of 0 to 1\n",
    "    : x: List of image data.  The image shape is (32, 32, 3)\n",
    "    : return: Numpy array of normalize data\n",
    "    \"\"\"\n",
    "    # TODO: Implement Function\n",
    "    #Min and Max RGB Values\n",
    "    Channel_max = 255\n",
    "    Channel_min = 0\n",
    "    #Range to Squashe Min and Max RGB Values\n",
    "    New_max = 1\n",
    "    New_min = 0\n",
    "    #Image data Normalization \n",
    "    x = New_min + (((x - Channel_min)*(New_max - New_min))/(Channel_max-Channel_min))\n",
    "    \n",
    "    return x\n",
    "\n",
    "\n",
    "\"\"\"\n",
    "DON'T MODIFY ANYTHING IN THIS CELL THAT IS BELOW THIS LINE\n",
    "\"\"\"\n",
    "tests.test_normalize(normalize)"
   ]
  },
  {
   "cell_type": "markdown",
   "metadata": {},
   "source": [
    "### One-hot encode\n",
    "Just like the previous code cell, you'll be implementing a function for preprocessing.  This time, you'll implement the `one_hot_encode` function. The input, `x`, are a list of labels.  Implement the function to return the list of labels as One-Hot encoded Numpy array.  The possible values for labels are 0 to 9. The one-hot encoding function should return the same encoding for each value between each call to `one_hot_encode`.  Make sure to save the map of encodings outside the function.\n",
    "\n",
    "Hint: Don't reinvent the wheel."
   ]
  },
  {
   "cell_type": "code",
   "execution_count": 4,
   "metadata": {},
   "outputs": [
    {
     "name": "stdout",
     "output_type": "stream",
     "text": [
      "Tests Passed\n"
     ]
    }
   ],
   "source": [
    "#Mapping encodings\n",
    "labels = [0,1,2,3,4,5,6,7,8,9]\n",
    "\n",
    "def one_hot_encode(x):\n",
    "    \"\"\"\n",
    "    One hot encode a list of sample labels. Return a one-hot encoded vector for each label.\n",
    "    : x: List of sample Labels\n",
    "    : return: Numpy array of one-hot encoded labels\n",
    "    \"\"\"\n",
    "    #Start encoder\n",
    "    lb = preprocessing.LabelBinarizer()\n",
    "    #Fit Labels\n",
    "    lb.fit(labels)\n",
    "    # TODO: Implement Function\n",
    "    return lb.transform(x)\n",
    "\n",
    "\n",
    "\"\"\"\n",
    "DON'T MODIFY ANYTHING IN THIS CELL THAT IS BELOW THIS LINE\n",
    "\"\"\"\n",
    "tests.test_one_hot_encode(one_hot_encode)"
   ]
  },
  {
   "cell_type": "markdown",
   "metadata": {},
   "source": [
    "### Randomize Data\n",
    "As you saw from exploring the data above, the order of the samples are randomized.  It doesn't hurt to randomize it again, but you don't need to for this dataset."
   ]
  },
  {
   "cell_type": "markdown",
   "metadata": {},
   "source": [
    "## Preprocess all the data and save it\n",
    "Running the code cell below will preprocess all the CIFAR-10 data and save it to file. The code below also uses 10% of the training data for validation."
   ]
  },
  {
   "cell_type": "code",
   "execution_count": 5,
   "metadata": {
    "collapsed": true
   },
   "outputs": [],
   "source": [
    "\"\"\"\n",
    "DON'T MODIFY ANYTHING IN THIS CELL\n",
    "\"\"\"\n",
    "# Preprocess Training, Validation, and Testing Data\n",
    "helper.preprocess_and_save_data(cifar10_dataset_folder_path, normalize, one_hot_encode)"
   ]
  },
  {
   "cell_type": "markdown",
   "metadata": {},
   "source": [
    "# Check Point\n",
    "This is your first checkpoint.  If you ever decide to come back to this notebook or have to restart the notebook, you can start from here.  The preprocessed data has been saved to disk."
   ]
  },
  {
   "cell_type": "code",
   "execution_count": 6,
   "metadata": {
    "collapsed": true
   },
   "outputs": [],
   "source": [
    "\"\"\"\n",
    "DON'T MODIFY ANYTHING IN THIS CELL\n",
    "\"\"\"\n",
    "import pickle\n",
    "import problem_unittests as tests\n",
    "import helper\n",
    "\n",
    "# Load the Preprocessed Validation data\n",
    "valid_features, valid_labels = pickle.load(open('preprocess_validation.p', mode='rb'))"
   ]
  },
  {
   "cell_type": "markdown",
   "metadata": {},
   "source": [
    "## Build the network\n",
    "For the neural network, you'll build each layer into a function.  Most of the code you've seen has been outside of functions. To test your code more thoroughly, we require that you put each layer in a function.  This allows us to give you better feedback and test for simple mistakes using our unittests before you submit your project.\n",
    "\n",
    ">**Note:** If you're finding it hard to dedicate enough time for this course each week, we've provided a small shortcut to this part of the project. In the next couple of problems, you'll have the option to use classes from the [TensorFlow Layers](https://www.tensorflow.org/api_docs/python/tf/layers) or [TensorFlow Layers (contrib)](https://www.tensorflow.org/api_guides/python/contrib.layers) packages to build each layer, except the layers you build in the \"Convolutional and Max Pooling Layer\" section.  TF Layers is similar to Keras's and TFLearn's abstraction to layers, so it's easy to pickup.\n",
    "\n",
    ">However, if you would like to get the most out of this course, try to solve all the problems _without_ using anything from the TF Layers packages. You **can** still use classes from other packages that happen to have the same name as ones you find in TF Layers! For example, instead of using the TF Layers version of the `conv2d` class, [tf.layers.conv2d](https://www.tensorflow.org/api_docs/python/tf/layers/conv2d), you would want to use the TF Neural Network version of `conv2d`, [tf.nn.conv2d](https://www.tensorflow.org/api_docs/python/tf/nn/conv2d). \n",
    "\n",
    "Let's begin!\n",
    "\n",
    "### Input\n",
    "The neural network needs to read the image data, one-hot encoded labels, and dropout keep probability. Implement the following functions\n",
    "* Implement `neural_net_image_input`\n",
    " * Return a [TF Placeholder](https://www.tensorflow.org/api_docs/python/tf/placeholder)\n",
    " * Set the shape using `image_shape` with batch size set to `None`.\n",
    " * Name the TensorFlow placeholder \"x\" using the TensorFlow `name` parameter in the [TF Placeholder](https://www.tensorflow.org/api_docs/python/tf/placeholder).\n",
    "* Implement `neural_net_label_input`\n",
    " * Return a [TF Placeholder](https://www.tensorflow.org/api_docs/python/tf/placeholder)\n",
    " * Set the shape using `n_classes` with batch size set to `None`.\n",
    " * Name the TensorFlow placeholder \"y\" using the TensorFlow `name` parameter in the [TF Placeholder](https://www.tensorflow.org/api_docs/python/tf/placeholder).\n",
    "* Implement `neural_net_keep_prob_input`\n",
    " * Return a [TF Placeholder](https://www.tensorflow.org/api_docs/python/tf/placeholder) for dropout keep probability.\n",
    " * Name the TensorFlow placeholder \"keep_prob\" using the TensorFlow `name` parameter in the [TF Placeholder](https://www.tensorflow.org/api_docs/python/tf/placeholder).\n",
    "\n",
    "These names will be used at the end of the project to load your saved model.\n",
    "\n",
    "Note: `None` for shapes in TensorFlow allow for a dynamic size."
   ]
  },
  {
   "cell_type": "code",
   "execution_count": 7,
   "metadata": {},
   "outputs": [
    {
     "name": "stdout",
     "output_type": "stream",
     "text": [
      "Image Input Tests Passed.\n",
      "Label Input Tests Passed.\n",
      "Keep Prob Tests Passed.\n"
     ]
    }
   ],
   "source": [
    "import tensorflow as tf\n",
    "\n",
    "def neural_net_image_input(image_shape):\n",
    "    \"\"\"\n",
    "    Return a Tensor for a bach of image input\n",
    "    : image_shape: Shape of the images\n",
    "    : return: Tensor for image input.\n",
    "    \"\"\"\n",
    "    return tf.placeholder(tf.float32,[None,*image_shape],'x')\n",
    "\n",
    "def neural_net_label_input(n_classes):\n",
    "    \"\"\"\n",
    "    Return a Tensor for a batch of label input\n",
    "    : n_classes: Number of classes\n",
    "    : return: Tensor for label input.\n",
    "    \"\"\"\n",
    "    # TODO: Implement Function\n",
    "    return tf.placeholder(tf.float32, [None, n_classes],'y')\n",
    "\n",
    "\n",
    "def neural_net_keep_prob_input():\n",
    "    \"\"\"\n",
    "    Return a Tensor for keep probability\n",
    "    : return: Tensor for keep probability.\n",
    "    \"\"\"\n",
    "    # TODO: Implement Function\n",
    "    return tf.placeholder(tf.float32, name='keep_prob')\n",
    "\n",
    "\n",
    "\"\"\"\n",
    "DON'T MODIFY ANYTHING IN THIS CELL THAT IS BELOW THIS LINE\n",
    "\"\"\"\n",
    "tf.reset_default_graph()\n",
    "tests.test_nn_image_inputs(neural_net_image_input)\n",
    "tests.test_nn_label_inputs(neural_net_label_input)\n",
    "tests.test_nn_keep_prob_inputs(neural_net_keep_prob_input)"
   ]
  },
  {
   "cell_type": "markdown",
   "metadata": {},
   "source": [
    "### Convolution and Max Pooling Layer\n",
    "Convolution layers have a lot of success with images. For this code cell, you should implement the function `conv2d_maxpool` to apply convolution then max pooling:\n",
    "* Create the weight and bias using `conv_ksize`, `conv_num_outputs` and the shape of `x_tensor`.\n",
    "* Apply a convolution to `x_tensor` using weight and `conv_strides`.\n",
    " * We recommend you use same padding, but you're welcome to use any padding.\n",
    "* Add bias\n",
    "* Add a nonlinear activation to the convolution.\n",
    "* Apply Max Pooling using `pool_ksize` and `pool_strides`.\n",
    " * We recommend you use same padding, but you're welcome to use any padding.\n",
    "\n",
    "**Note:** You **can't** use [TensorFlow Layers](https://www.tensorflow.org/api_docs/python/tf/layers) or [TensorFlow Layers (contrib)](https://www.tensorflow.org/api_guides/python/contrib.layers) for **this** layer, but you can still use TensorFlow's [Neural Network](https://www.tensorflow.org/api_docs/python/tf/nn) package. You may still use the shortcut option for all the **other** layers."
   ]
  },
  {
   "cell_type": "code",
   "execution_count": 8,
   "metadata": {},
   "outputs": [
    {
     "name": "stdout",
     "output_type": "stream",
     "text": [
      "Tests Passed\n"
     ]
    }
   ],
   "source": [
    "def conv2d_maxpool(x_tensor, conv_num_outputs, conv_ksize, conv_strides, pool_ksize, pool_strides):\n",
    "    \"\"\"\n",
    "    Apply convolution then max pooling to x_tensor\n",
    "    :param x_tensor: TensorFlow Tensor\n",
    "    :param conv_num_outputs: Number of outputs for the convolutional layer\n",
    "    :param conv_ksize: kernal size 2-D Tuple for the convolutional layer\n",
    "    :param conv_strides: Stride 2-D Tuple for convolution\n",
    "    :param pool_ksize: kernal size 2-D Tuple for pool\n",
    "    :param pool_strides: Stride 2-D Tuple for pool\n",
    "    : return: A tensor that represents convolution and max pooling of x_tensor\n",
    "    \"\"\"\n",
    "    # TODO: Implement Function \n",
    "   \n",
    "    # Convolution filter/Weight and bias\n",
    "    channels_depth_in = int(x_tensor.shape[3])\n",
    "    w_shape_arg = [*conv_ksize, channels_depth_in, conv_num_outputs]\n",
    "    \n",
    "    weight = tf.Variable(tf.truncated_normal(w_shape_arg, stddev=0.1))\n",
    "    bias = tf.Variable(tf.zeros(conv_num_outputs))\n",
    "    \n",
    "    # convolution to x_tensor using weight and conv_strides\n",
    "    strides_arg = [1, *conv_strides, 1]\n",
    "    \n",
    "    conv_layer = tf.nn.conv2d(x_tensor, weight, strides_arg, \"SAME\" )\n",
    "    conv_layer = tf.nn.bias_add(conv_layer, bias)\n",
    "    conv_layer = tf.nn.relu(conv_layer)\n",
    "    \n",
    "    # max pooling\n",
    "    pool_ksize = [1, *pool_ksize, 1]\n",
    "    pool_strides = [1, *pool_strides, 1]  \n",
    "    \n",
    "    return tf.nn.max_pool(conv_layer , pool_ksize, pool_strides,'SAME') \n",
    "\n",
    "\n",
    "\"\"\"\n",
    "DON'T MODIFY ANYTHING IN THIS CELL THAT IS BELOW THIS LINE\n",
    "\"\"\"\n",
    "tests.test_con_pool(conv2d_maxpool)"
   ]
  },
  {
   "cell_type": "markdown",
   "metadata": {},
   "source": [
    "### Flatten Layer\n",
    "Implement the `flatten` function to change the dimension of `x_tensor` from a 4-D tensor to a 2-D tensor.  The output should be the shape (*Batch Size*, *Flattened Image Size*). Shortcut option: you can use classes from the [TensorFlow Layers](https://www.tensorflow.org/api_docs/python/tf/layers) or [TensorFlow Layers (contrib)](https://www.tensorflow.org/api_guides/python/contrib.layers) packages for this layer. For more of a challenge, only use other TensorFlow packages."
   ]
  },
  {
   "cell_type": "code",
   "execution_count": 9,
   "metadata": {},
   "outputs": [
    {
     "name": "stdout",
     "output_type": "stream",
     "text": [
      "Tests Passed\n"
     ]
    }
   ],
   "source": [
    "def flatten(x_tensor):\n",
    "    \"\"\"\n",
    "    Flatten x_tensor to (Batch Size, Flattened Image Size)\n",
    "    : x_tensor: A tensor of size (Batch Size, ...), where ... are the image dimensions.\n",
    "    : return: A tensor of size (Batch Size, Flattened Image Size).\n",
    "    \"\"\"\n",
    "    # TODO: Implement Function\n",
    "    #tf.reshape(x_tensor, shape, name=None)\n",
    "    xt_shape = x_tensor.get_shape()[1:].num_elements()\n",
    "    return tf.reshape(x_tensor, [-1, xt_shape])\n",
    "\n",
    "\"\"\"\n",
    "DON'T MODIFY ANYTHING IN THIS CELL THAT IS BELOW THIS LINE\n",
    "\"\"\"\n",
    "tests.test_flatten(flatten)"
   ]
  },
  {
   "cell_type": "markdown",
   "metadata": {},
   "source": [
    "### Fully-Connected Layer\n",
    "Implement the `fully_conn` function to apply a fully connected layer to `x_tensor` with the shape (*Batch Size*, *num_outputs*). Shortcut option: you can use classes from the [TensorFlow Layers](https://www.tensorflow.org/api_docs/python/tf/layers) or [TensorFlow Layers (contrib)](https://www.tensorflow.org/api_guides/python/contrib.layers) packages for this layer. For more of a challenge, only use other TensorFlow packages."
   ]
  },
  {
   "cell_type": "code",
   "execution_count": 10,
   "metadata": {},
   "outputs": [
    {
     "name": "stdout",
     "output_type": "stream",
     "text": [
      "Tests Passed\n"
     ]
    }
   ],
   "source": [
    "def fully_conn(x_tensor, num_outputs):\n",
    "    \"\"\"\n",
    "    Apply a fully connected layer to x_tensor using weight and bias\n",
    "    : x_tensor: A 2-D tensor where the first dimension is batch size.\n",
    "    : num_outputs: The number of output that the new tensor should be.\n",
    "    : return: A 2-D tensor where the second dimension is num_outputs.\n",
    "    \"\"\"\n",
    "    # TODO: Implement Function\n",
    "    w_shape_arg = x_tensor.get_shape().as_list()[1]\n",
    "    weights = tf.Variable(tf.truncated_normal([ w_shape_arg, num_outputs], stddev=0.1))\n",
    "    bias = tf.Variable(tf.zeros(num_outputs))\n",
    "    \n",
    "    fully_connected = tf.add(tf.matmul(x_tensor, weights), bias)\n",
    "    return tf.nn.relu(fully_connected)\n",
    " \n",
    "\n",
    "\n",
    "\"\"\"\n",
    "DON'T MODIFY ANYTHING IN THIS CELL THAT IS BELOW THIS LINE\n",
    "\"\"\"\n",
    "tests.test_fully_conn(fully_conn)"
   ]
  },
  {
   "cell_type": "markdown",
   "metadata": {},
   "source": [
    "### Output Layer\n",
    "Implement the `output` function to apply a fully connected layer to `x_tensor` with the shape (*Batch Size*, *num_outputs*). Shortcut option: you can use classes from the [TensorFlow Layers](https://www.tensorflow.org/api_docs/python/tf/layers) or [TensorFlow Layers (contrib)](https://www.tensorflow.org/api_guides/python/contrib.layers) packages for this layer. For more of a challenge, only use other TensorFlow packages.\n",
    "\n",
    "**Note:** Activation, softmax, or cross entropy should **not** be applied to this."
   ]
  },
  {
   "cell_type": "code",
   "execution_count": 11,
   "metadata": {},
   "outputs": [
    {
     "name": "stdout",
     "output_type": "stream",
     "text": [
      "Tests Passed\n"
     ]
    }
   ],
   "source": [
    "def output(x_tensor, num_outputs):\n",
    "    \"\"\"\n",
    "    Apply a output layer to x_tensor using weight and bias\n",
    "    : x_tensor: A 2-D tensor where the first dimension is batch size.\n",
    "    : num_outputs: The number of output that the new tensor should be.\n",
    "    : return: A 2-D tensor where the second dimension is num_outputs.\n",
    "    \"\"\"\n",
    "    # TODO: Implement Function\n",
    "    w_shape_arg = x_tensor.get_shape().as_list()[1]\n",
    "    weights = tf.Variable(tf.truncated_normal([ w_shape_arg, num_outputs], stddev=0.1))\n",
    "    bias = tf.Variable(tf.zeros(num_outputs))\n",
    "    return tf.add(tf.matmul(x_tensor, weights), bias)\n",
    "    \n",
    "\"\"\"\n",
    "DON'T MODIFY ANYTHING IN THIS CELL THAT IS BELOW THIS LINE\n",
    "\"\"\"\n",
    "tests.test_output(output)"
   ]
  },
  {
   "cell_type": "markdown",
   "metadata": {},
   "source": [
    "### Create Convolutional Model\n",
    "Implement the function `conv_net` to create a convolutional neural network model. The function takes in a batch of images, `x`, and outputs logits.  Use the layers you created above to create this model:\n",
    "\n",
    "* Apply 1, 2, or 3 Convolution and Max Pool layers\n",
    "* Apply a Flatten Layer\n",
    "* Apply 1, 2, or 3 Fully Connected Layers\n",
    "* Apply an Output Layer\n",
    "* Return the output\n",
    "* Apply [TensorFlow's Dropout](https://www.tensorflow.org/api_docs/python/tf/nn/dropout) to one or more layers in the model using `keep_prob`. "
   ]
  },
  {
   "cell_type": "code",
   "execution_count": 12,
   "metadata": {},
   "outputs": [
    {
     "name": "stdout",
     "output_type": "stream",
     "text": [
      "Neural Network Built!\n"
     ]
    }
   ],
   "source": [
    "def conv_net(x, keep_prob):\n",
    "    \"\"\"\n",
    "    Create a convolutional neural network model\n",
    "    : x: Placeholder tensor that holds image data.\n",
    "    : keep_prob: Placeholder tensor that hold dropout keep probability.\n",
    "    : return: Tensor that represents logits\n",
    "    \"\"\"\n",
    "    # TODO: Apply 1, 2, or 3 Convolution and Max Pool layers\n",
    "    #    Play around with different number of outputs, kernel size and stride\n",
    "    # Function Definition from Above:\n",
    "    #    conv2d_maxpool(x_tensor, conv_num_outputs, conv_ksize, conv_strides, pool_ksize, pool_strides)\n",
    "    \n",
    "    #conv_maxp_lay = conv2d_maxpool(x, 16, (3,3),(1,1),(2,2),(2,2))\n",
    "    conv_maxp_lay = conv2d_maxpool(x, 32, (3,3),(1,1),(2,2),(2,2))\n",
    "    conv_maxp_lay = conv2d_maxpool(x, 64, (3,3),(1,1),(2,2),(2,2))\n",
    "    conv_maxp_lay= tf.nn.dropout(conv_maxp_lay, keep_prob)\n",
    "        \n",
    "\n",
    "    # TODO: Apply a Flatten Layer\n",
    "    # Function Definition from Above:\n",
    "    #   flatten(x_tensor)\n",
    "    \n",
    "    flatten_lay = flatten(conv_maxp_lay)\n",
    "    \n",
    "\n",
    "    # TODO: Apply 1, 2, or 3 Fully Connected Layers\n",
    "    #    Play around with different number of outputs\n",
    "    # Function Definition from Above:\n",
    "    #   fully_conn(x_tensor, num_outputs)\n",
    "    fullcon_layer = fully_conn(flatten_lay, 128)\n",
    "    fullcon_layer = fully_conn(flatten_lay, 128)\n",
    "    fullcon_layer  = tf.nn.dropout(fullcon_layer, keep_prob)\n",
    "    \n",
    "    # TODO: Apply an Output Layer\n",
    "    #    Set this to the number of classes\n",
    "    # Function Definition from Above:\n",
    "    #   output(x_tensor, num_outputs)\n",
    "    \n",
    "    \n",
    "    # TODO: return output\n",
    "    return output(fullcon_layer, 10)\n",
    "\n",
    "\"\"\"\n",
    "DON'T MODIFY ANYTHING IN THIS CELL THAT IS BELOW THIS LINE\n",
    "\"\"\"\n",
    "\n",
    "##############################\n",
    "## Build the Neural Network ##\n",
    "##############################\n",
    "\n",
    "# Remove previous weights, bias, inputs, etc..\n",
    "tf.reset_default_graph()\n",
    "\n",
    "# Inputs\n",
    "x = neural_net_image_input((32, 32, 3))\n",
    "y = neural_net_label_input(10)\n",
    "keep_prob = neural_net_keep_prob_input()\n",
    "\n",
    "# Model\n",
    "logits = conv_net(x, keep_prob)\n",
    "\n",
    "# Name logits Tensor, so that is can be loaded from disk after training\n",
    "logits = tf.identity(logits, name='logits')\n",
    "\n",
    "# Loss and Optimizer\n",
    "cost = tf.reduce_mean(tf.nn.softmax_cross_entropy_with_logits(logits=logits, labels=y))\n",
    "optimizer = tf.train.AdamOptimizer().minimize(cost)\n",
    "\n",
    "# Accuracy\n",
    "correct_pred = tf.equal(tf.argmax(logits, 1), tf.argmax(y, 1))\n",
    "accuracy = tf.reduce_mean(tf.cast(correct_pred, tf.float32), name='accuracy')\n",
    "\n",
    "tests.test_conv_net(conv_net)"
   ]
  },
  {
   "cell_type": "markdown",
   "metadata": {},
   "source": [
    "## Train the Neural Network\n",
    "### Single Optimization\n",
    "Implement the function `train_neural_network` to do a single optimization.  The optimization should use `optimizer` to optimize in `session` with a `feed_dict` of the following:\n",
    "* `x` for image input\n",
    "* `y` for labels\n",
    "* `keep_prob` for keep probability for dropout\n",
    "\n",
    "This function will be called for each batch, so `tf.global_variables_initializer()` has already been called.\n",
    "\n",
    "Note: Nothing needs to be returned. This function is only optimizing the neural network."
   ]
  },
  {
   "cell_type": "code",
   "execution_count": 13,
   "metadata": {},
   "outputs": [
    {
     "name": "stdout",
     "output_type": "stream",
     "text": [
      "Tests Passed\n"
     ]
    }
   ],
   "source": [
    "def train_neural_network(session, optimizer, keep_probability, feature_batch, label_batch):\n",
    "    \"\"\"\n",
    "    Optimize the session on a batch of images and labels\n",
    "    : session: Current TensorFlow session\n",
    "    : optimizer: TensorFlow optimizer function\n",
    "    : keep_probability: keep probability\n",
    "    : feature_batch: Batch of Numpy image data\n",
    "    : label_batch: Batch of Numpy label data\n",
    "    \"\"\"\n",
    "    # TODO: Implement Function\n",
    "    # TODO: Implement Function\n",
    "    session.run(optimizer, feed_dict={x: feature_batch, y: label_batch, keep_prob: keep_probability})\n",
    "\n",
    "\n",
    "\"\"\"\n",
    "DON'T MODIFY ANYTHING IN THIS CELL THAT IS BELOW THIS LINE\n",
    "\"\"\"\n",
    "tests.test_train_nn(train_neural_network)"
   ]
  },
  {
   "cell_type": "markdown",
   "metadata": {},
   "source": [
    "### Show Stats\n",
    "Implement the function `print_stats` to print loss and validation accuracy.  Use the global variables `valid_features` and `valid_labels` to calculate validation accuracy.  Use a keep probability of `1.0` to calculate the loss and validation accuracy."
   ]
  },
  {
   "cell_type": "code",
   "execution_count": 14,
   "metadata": {
    "collapsed": true
   },
   "outputs": [],
   "source": [
    "def print_stats(session, feature_batch, label_batch, cost, accuracy):\n",
    "    \"\"\"\n",
    "    Print information about loss and validation accuracy\n",
    "    : session: Current TensorFlow session\n",
    "    : feature_batch: Batch of Numpy image data\n",
    "    : label_batch: Batch of Numpy label data\n",
    "    : cost: TensorFlow cost function\n",
    "    : accuracy: TensorFlow accuracy function\n",
    "    \"\"\"\n",
    "    loss = sess.run(cost, feed_dict={x: feature_batch, y: label_batch, keep_prob: 1.0})\n",
    "    valid_acc = sess.run(accuracy, feed_dict={x: valid_features, y: valid_labels, keep_prob: 1.})\n",
    "    \n",
    "    print('Loss: {:>10.4f} Validation Accuracy: {:.6f}'.format(loss, valid_acc))"
   ]
  },
  {
   "cell_type": "markdown",
   "metadata": {},
   "source": [
    "### Hyperparameters\n",
    "Tune the following parameters:\n",
    "* Set `epochs` to the number of iterations until the network stops learning or start overfitting\n",
    "* Set `batch_size` to the highest number that your machine has memory for.  Most people set them to common sizes of memory:\n",
    " * 64\n",
    " * 128\n",
    " * 256\n",
    " * ...\n",
    "* Set `keep_probability` to the probability of keeping a node using dropout"
   ]
  },
  {
   "cell_type": "code",
   "execution_count": 15,
   "metadata": {
    "collapsed": true
   },
   "outputs": [],
   "source": [
    "# TODO: Tune Parameters\n",
    "epochs = 65\n",
    "batch_size = 256\n",
    "keep_probability = 0.5"
   ]
  },
  {
   "cell_type": "markdown",
   "metadata": {},
   "source": [
    "### Train on a Single CIFAR-10 Batch\n",
    "Instead of training the neural network on all the CIFAR-10 batches of data, let's use a single batch. This should save time while you iterate on the model to get a better accuracy.  Once the final validation accuracy is 50% or greater, run the model on all the data in the next section."
   ]
  },
  {
   "cell_type": "code",
   "execution_count": 16,
   "metadata": {},
   "outputs": [
    {
     "name": "stdout",
     "output_type": "stream",
     "text": [
      "Checking the Training on a Single Batch...\n",
      "Epoch  1, CIFAR-10 Batch 1:  Loss:     2.2814 Validation Accuracy: 0.165000\n",
      "Epoch  2, CIFAR-10 Batch 1:  Loss:     2.2205 Validation Accuracy: 0.204400\n",
      "Epoch  3, CIFAR-10 Batch 1:  Loss:     2.0903 Validation Accuracy: 0.261800\n",
      "Epoch  4, CIFAR-10 Batch 1:  Loss:     1.9292 Validation Accuracy: 0.327600\n",
      "Epoch  5, CIFAR-10 Batch 1:  Loss:     1.8271 Validation Accuracy: 0.382200\n",
      "Epoch  6, CIFAR-10 Batch 1:  Loss:     1.7141 Validation Accuracy: 0.382200\n",
      "Epoch  7, CIFAR-10 Batch 1:  Loss:     1.5892 Validation Accuracy: 0.415800\n",
      "Epoch  8, CIFAR-10 Batch 1:  Loss:     1.4897 Validation Accuracy: 0.440800\n",
      "Epoch  9, CIFAR-10 Batch 1:  Loss:     1.3872 Validation Accuracy: 0.458600\n",
      "Epoch 10, CIFAR-10 Batch 1:  Loss:     1.2367 Validation Accuracy: 0.476800\n",
      "Epoch 11, CIFAR-10 Batch 1:  Loss:     1.1055 Validation Accuracy: 0.482000\n",
      "Epoch 12, CIFAR-10 Batch 1:  Loss:     1.0323 Validation Accuracy: 0.494000\n",
      "Epoch 13, CIFAR-10 Batch 1:  Loss:     0.8971 Validation Accuracy: 0.509400\n",
      "Epoch 14, CIFAR-10 Batch 1:  Loss:     0.9015 Validation Accuracy: 0.508000\n",
      "Epoch 15, CIFAR-10 Batch 1:  Loss:     0.8231 Validation Accuracy: 0.513800\n",
      "Epoch 16, CIFAR-10 Batch 1:  Loss:     0.7704 Validation Accuracy: 0.526800\n",
      "Epoch 17, CIFAR-10 Batch 1:  Loss:     0.7365 Validation Accuracy: 0.537400\n",
      "Epoch 18, CIFAR-10 Batch 1:  Loss:     0.6648 Validation Accuracy: 0.537400\n",
      "Epoch 19, CIFAR-10 Batch 1:  Loss:     0.6376 Validation Accuracy: 0.534600\n",
      "Epoch 20, CIFAR-10 Batch 1:  Loss:     0.6135 Validation Accuracy: 0.543800\n",
      "Epoch 21, CIFAR-10 Batch 1:  Loss:     0.5338 Validation Accuracy: 0.546400\n",
      "Epoch 22, CIFAR-10 Batch 1:  Loss:     0.5488 Validation Accuracy: 0.550400\n",
      "Epoch 23, CIFAR-10 Batch 1:  Loss:     0.4996 Validation Accuracy: 0.544400\n",
      "Epoch 24, CIFAR-10 Batch 1:  Loss:     0.4664 Validation Accuracy: 0.544800\n",
      "Epoch 25, CIFAR-10 Batch 1:  Loss:     0.4569 Validation Accuracy: 0.560600\n",
      "Epoch 26, CIFAR-10 Batch 1:  Loss:     0.4143 Validation Accuracy: 0.562800\n",
      "Epoch 27, CIFAR-10 Batch 1:  Loss:     0.3635 Validation Accuracy: 0.552600\n",
      "Epoch 28, CIFAR-10 Batch 1:  Loss:     0.3473 Validation Accuracy: 0.562200\n",
      "Epoch 29, CIFAR-10 Batch 1:  Loss:     0.3336 Validation Accuracy: 0.565400\n",
      "Epoch 30, CIFAR-10 Batch 1:  Loss:     0.3374 Validation Accuracy: 0.561000\n",
      "Epoch 31, CIFAR-10 Batch 1:  Loss:     0.2633 Validation Accuracy: 0.562200\n",
      "Epoch 32, CIFAR-10 Batch 1:  Loss:     0.2588 Validation Accuracy: 0.564600\n",
      "Epoch 33, CIFAR-10 Batch 1:  Loss:     0.2423 Validation Accuracy: 0.573800\n",
      "Epoch 34, CIFAR-10 Batch 1:  Loss:     0.2088 Validation Accuracy: 0.571800\n",
      "Epoch 35, CIFAR-10 Batch 1:  Loss:     0.2100 Validation Accuracy: 0.571000\n",
      "Epoch 36, CIFAR-10 Batch 1:  Loss:     0.2321 Validation Accuracy: 0.567400\n",
      "Epoch 37, CIFAR-10 Batch 1:  Loss:     0.1976 Validation Accuracy: 0.569400\n",
      "Epoch 38, CIFAR-10 Batch 1:  Loss:     0.1666 Validation Accuracy: 0.577800\n",
      "Epoch 39, CIFAR-10 Batch 1:  Loss:     0.1561 Validation Accuracy: 0.570800\n",
      "Epoch 40, CIFAR-10 Batch 1:  Loss:     0.1411 Validation Accuracy: 0.579200\n",
      "Epoch 41, CIFAR-10 Batch 1:  Loss:     0.1441 Validation Accuracy: 0.569200\n",
      "Epoch 42, CIFAR-10 Batch 1:  Loss:     0.1053 Validation Accuracy: 0.573000\n",
      "Epoch 43, CIFAR-10 Batch 1:  Loss:     0.1144 Validation Accuracy: 0.577400\n",
      "Epoch 44, CIFAR-10 Batch 1:  Loss:     0.1035 Validation Accuracy: 0.570200\n",
      "Epoch 45, CIFAR-10 Batch 1:  Loss:     0.0928 Validation Accuracy: 0.570400\n",
      "Epoch 46, CIFAR-10 Batch 1:  Loss:     0.0904 Validation Accuracy: 0.575600\n",
      "Epoch 47, CIFAR-10 Batch 1:  Loss:     0.0834 Validation Accuracy: 0.575800\n",
      "Epoch 48, CIFAR-10 Batch 1:  Loss:     0.0784 Validation Accuracy: 0.576400\n",
      "Epoch 49, CIFAR-10 Batch 1:  Loss:     0.0813 Validation Accuracy: 0.572000\n",
      "Epoch 50, CIFAR-10 Batch 1:  Loss:     0.0646 Validation Accuracy: 0.575000\n",
      "Epoch 51, CIFAR-10 Batch 1:  Loss:     0.0638 Validation Accuracy: 0.568400\n",
      "Epoch 52, CIFAR-10 Batch 1:  Loss:     0.0634 Validation Accuracy: 0.572600\n",
      "Epoch 53, CIFAR-10 Batch 1:  Loss:     0.0692 Validation Accuracy: 0.568600\n",
      "Epoch 54, CIFAR-10 Batch 1:  Loss:     0.0586 Validation Accuracy: 0.570400\n",
      "Epoch 55, CIFAR-10 Batch 1:  Loss:     0.0517 Validation Accuracy: 0.568200\n",
      "Epoch 56, CIFAR-10 Batch 1:  Loss:     0.0528 Validation Accuracy: 0.566200\n",
      "Epoch 57, CIFAR-10 Batch 1:  Loss:     0.0412 Validation Accuracy: 0.569600\n",
      "Epoch 58, CIFAR-10 Batch 1:  Loss:     0.0379 Validation Accuracy: 0.572400\n",
      "Epoch 59, CIFAR-10 Batch 1:  Loss:     0.0283 Validation Accuracy: 0.575200\n",
      "Epoch 60, CIFAR-10 Batch 1:  Loss:     0.0384 Validation Accuracy: 0.573400\n",
      "Epoch 61, CIFAR-10 Batch 1:  Loss:     0.0282 Validation Accuracy: 0.576000\n",
      "Epoch 62, CIFAR-10 Batch 1:  Loss:     0.0309 Validation Accuracy: 0.577600\n",
      "Epoch 63, CIFAR-10 Batch 1:  Loss:     0.0315 Validation Accuracy: 0.578400\n",
      "Epoch 64, CIFAR-10 Batch 1:  Loss:     0.0236 Validation Accuracy: 0.573800\n",
      "Epoch 65, CIFAR-10 Batch 1:  Loss:     0.0247 Validation Accuracy: 0.575800\n"
     ]
    }
   ],
   "source": [
    "\"\"\"\n",
    "DON'T MODIFY ANYTHING IN THIS CELL\n",
    "\"\"\"\n",
    "print('Checking the Training on a Single Batch...')\n",
    "with tf.Session() as sess:\n",
    "    # Initializing the variables\n",
    "    sess.run(tf.global_variables_initializer())\n",
    "    \n",
    "    # Training cycle\n",
    "    for epoch in range(epochs):\n",
    "        batch_i = 1\n",
    "        for batch_features, batch_labels in helper.load_preprocess_training_batch(batch_i, batch_size):\n",
    "            train_neural_network(sess, optimizer, keep_probability, batch_features, batch_labels)\n",
    "        print('Epoch {:>2}, CIFAR-10 Batch {}:  '.format(epoch + 1, batch_i), end='')\n",
    "        print_stats(sess, batch_features, batch_labels, cost, accuracy)"
   ]
  },
  {
   "cell_type": "markdown",
   "metadata": {},
   "source": [
    "### Fully Train the Model\n",
    "Now that you got a good accuracy with a single CIFAR-10 batch, try it with all five batches."
   ]
  },
  {
   "cell_type": "code",
   "execution_count": 17,
   "metadata": {},
   "outputs": [
    {
     "name": "stdout",
     "output_type": "stream",
     "text": [
      "Training...\n",
      "Epoch  1, CIFAR-10 Batch 1:  Loss:     2.2614 Validation Accuracy: 0.184600\n",
      "Epoch  1, CIFAR-10 Batch 2:  Loss:     2.1577 Validation Accuracy: 0.239800\n",
      "Epoch  1, CIFAR-10 Batch 3:  Loss:     1.9276 Validation Accuracy: 0.299000\n",
      "Epoch  1, CIFAR-10 Batch 4:  Loss:     1.8921 Validation Accuracy: 0.361400\n",
      "Epoch  1, CIFAR-10 Batch 5:  Loss:     1.8425 Validation Accuracy: 0.376400\n",
      "Epoch  2, CIFAR-10 Batch 1:  Loss:     1.8736 Validation Accuracy: 0.418400\n",
      "Epoch  2, CIFAR-10 Batch 2:  Loss:     1.7148 Validation Accuracy: 0.433600\n",
      "Epoch  2, CIFAR-10 Batch 3:  Loss:     1.4979 Validation Accuracy: 0.440800\n",
      "Epoch  2, CIFAR-10 Batch 4:  Loss:     1.5712 Validation Accuracy: 0.467400\n",
      "Epoch  2, CIFAR-10 Batch 5:  Loss:     1.4986 Validation Accuracy: 0.467000\n",
      "Epoch  3, CIFAR-10 Batch 1:  Loss:     1.5960 Validation Accuracy: 0.488400\n",
      "Epoch  3, CIFAR-10 Batch 2:  Loss:     1.3376 Validation Accuracy: 0.510600\n",
      "Epoch  3, CIFAR-10 Batch 3:  Loss:     1.2638 Validation Accuracy: 0.506200\n",
      "Epoch  3, CIFAR-10 Batch 4:  Loss:     1.3651 Validation Accuracy: 0.522200\n",
      "Epoch  3, CIFAR-10 Batch 5:  Loss:     1.3050 Validation Accuracy: 0.520800\n",
      "Epoch  4, CIFAR-10 Batch 1:  Loss:     1.3570 Validation Accuracy: 0.532200\n",
      "Epoch  4, CIFAR-10 Batch 2:  Loss:     1.1176 Validation Accuracy: 0.531800\n",
      "Epoch  4, CIFAR-10 Batch 3:  Loss:     1.0743 Validation Accuracy: 0.534800\n",
      "Epoch  4, CIFAR-10 Batch 4:  Loss:     1.1666 Validation Accuracy: 0.550800\n",
      "Epoch  4, CIFAR-10 Batch 5:  Loss:     1.1960 Validation Accuracy: 0.539600\n",
      "Epoch  5, CIFAR-10 Batch 1:  Loss:     1.2493 Validation Accuracy: 0.556000\n",
      "Epoch  5, CIFAR-10 Batch 2:  Loss:     0.9617 Validation Accuracy: 0.565200\n",
      "Epoch  5, CIFAR-10 Batch 3:  Loss:     1.0178 Validation Accuracy: 0.567000\n",
      "Epoch  5, CIFAR-10 Batch 4:  Loss:     1.0771 Validation Accuracy: 0.568800\n",
      "Epoch  5, CIFAR-10 Batch 5:  Loss:     1.0864 Validation Accuracy: 0.563200\n",
      "Epoch  6, CIFAR-10 Batch 1:  Loss:     1.1361 Validation Accuracy: 0.573200\n",
      "Epoch  6, CIFAR-10 Batch 2:  Loss:     0.8625 Validation Accuracy: 0.572800\n",
      "Epoch  6, CIFAR-10 Batch 3:  Loss:     0.8955 Validation Accuracy: 0.578400\n",
      "Epoch  6, CIFAR-10 Batch 4:  Loss:     0.9387 Validation Accuracy: 0.578600\n",
      "Epoch  6, CIFAR-10 Batch 5:  Loss:     0.9839 Validation Accuracy: 0.579400\n",
      "Epoch  7, CIFAR-10 Batch 1:  Loss:     1.0504 Validation Accuracy: 0.583800\n",
      "Epoch  7, CIFAR-10 Batch 2:  Loss:     0.7950 Validation Accuracy: 0.588800\n",
      "Epoch  7, CIFAR-10 Batch 3:  Loss:     0.8051 Validation Accuracy: 0.598000\n",
      "Epoch  7, CIFAR-10 Batch 4:  Loss:     0.8575 Validation Accuracy: 0.599600\n",
      "Epoch  7, CIFAR-10 Batch 5:  Loss:     0.8771 Validation Accuracy: 0.596600\n",
      "Epoch  8, CIFAR-10 Batch 1:  Loss:     0.9755 Validation Accuracy: 0.594200\n",
      "Epoch  8, CIFAR-10 Batch 2:  Loss:     0.7760 Validation Accuracy: 0.599200\n",
      "Epoch  8, CIFAR-10 Batch 3:  Loss:     0.7614 Validation Accuracy: 0.605400\n",
      "Epoch  8, CIFAR-10 Batch 4:  Loss:     0.8086 Validation Accuracy: 0.603000\n",
      "Epoch  8, CIFAR-10 Batch 5:  Loss:     0.8346 Validation Accuracy: 0.607200\n",
      "Epoch  9, CIFAR-10 Batch 1:  Loss:     0.8600 Validation Accuracy: 0.616400\n",
      "Epoch  9, CIFAR-10 Batch 2:  Loss:     0.6574 Validation Accuracy: 0.602000\n",
      "Epoch  9, CIFAR-10 Batch 3:  Loss:     0.7177 Validation Accuracy: 0.612600\n",
      "Epoch  9, CIFAR-10 Batch 4:  Loss:     0.7574 Validation Accuracy: 0.604800\n",
      "Epoch  9, CIFAR-10 Batch 5:  Loss:     0.7727 Validation Accuracy: 0.619800\n",
      "Epoch 10, CIFAR-10 Batch 1:  Loss:     0.7928 Validation Accuracy: 0.619000\n",
      "Epoch 10, CIFAR-10 Batch 2:  Loss:     0.6067 Validation Accuracy: 0.621400\n",
      "Epoch 10, CIFAR-10 Batch 3:  Loss:     0.6404 Validation Accuracy: 0.621200\n",
      "Epoch 10, CIFAR-10 Batch 4:  Loss:     0.6878 Validation Accuracy: 0.619200\n",
      "Epoch 10, CIFAR-10 Batch 5:  Loss:     0.6996 Validation Accuracy: 0.620000\n",
      "Epoch 11, CIFAR-10 Batch 1:  Loss:     0.7756 Validation Accuracy: 0.617600\n",
      "Epoch 11, CIFAR-10 Batch 2:  Loss:     0.5789 Validation Accuracy: 0.614600\n",
      "Epoch 11, CIFAR-10 Batch 3:  Loss:     0.5735 Validation Accuracy: 0.624200\n",
      "Epoch 11, CIFAR-10 Batch 4:  Loss:     0.6035 Validation Accuracy: 0.629000\n",
      "Epoch 11, CIFAR-10 Batch 5:  Loss:     0.5958 Validation Accuracy: 0.626200\n",
      "Epoch 12, CIFAR-10 Batch 1:  Loss:     0.7155 Validation Accuracy: 0.629400\n",
      "Epoch 12, CIFAR-10 Batch 2:  Loss:     0.5286 Validation Accuracy: 0.628600\n",
      "Epoch 12, CIFAR-10 Batch 3:  Loss:     0.5471 Validation Accuracy: 0.625600\n",
      "Epoch 12, CIFAR-10 Batch 4:  Loss:     0.5304 Validation Accuracy: 0.626000\n",
      "Epoch 12, CIFAR-10 Batch 5:  Loss:     0.5873 Validation Accuracy: 0.634400\n",
      "Epoch 13, CIFAR-10 Batch 1:  Loss:     0.6789 Validation Accuracy: 0.628600\n",
      "Epoch 13, CIFAR-10 Batch 2:  Loss:     0.4776 Validation Accuracy: 0.640600\n",
      "Epoch 13, CIFAR-10 Batch 3:  Loss:     0.4948 Validation Accuracy: 0.624800\n",
      "Epoch 13, CIFAR-10 Batch 4:  Loss:     0.4791 Validation Accuracy: 0.637000\n",
      "Epoch 13, CIFAR-10 Batch 5:  Loss:     0.5140 Validation Accuracy: 0.639200\n",
      "Epoch 14, CIFAR-10 Batch 1:  Loss:     0.6088 Validation Accuracy: 0.635400\n",
      "Epoch 14, CIFAR-10 Batch 2:  Loss:     0.4316 Validation Accuracy: 0.648000\n",
      "Epoch 14, CIFAR-10 Batch 3:  Loss:     0.4330 Validation Accuracy: 0.647000\n",
      "Epoch 14, CIFAR-10 Batch 4:  Loss:     0.4446 Validation Accuracy: 0.637000\n",
      "Epoch 14, CIFAR-10 Batch 5:  Loss:     0.5066 Validation Accuracy: 0.649200\n",
      "Epoch 15, CIFAR-10 Batch 1:  Loss:     0.5652 Validation Accuracy: 0.637600\n",
      "Epoch 15, CIFAR-10 Batch 2:  Loss:     0.4681 Validation Accuracy: 0.646600\n",
      "Epoch 15, CIFAR-10 Batch 3:  Loss:     0.4237 Validation Accuracy: 0.644800\n",
      "Epoch 15, CIFAR-10 Batch 4:  Loss:     0.3905 Validation Accuracy: 0.645200\n",
      "Epoch 15, CIFAR-10 Batch 5:  Loss:     0.4662 Validation Accuracy: 0.644800\n",
      "Epoch 16, CIFAR-10 Batch 1:  Loss:     0.5222 Validation Accuracy: 0.648600\n",
      "Epoch 16, CIFAR-10 Batch 2:  Loss:     0.3919 Validation Accuracy: 0.652400\n",
      "Epoch 16, CIFAR-10 Batch 3:  Loss:     0.4038 Validation Accuracy: 0.655200\n",
      "Epoch 16, CIFAR-10 Batch 4:  Loss:     0.3470 Validation Accuracy: 0.653000\n",
      "Epoch 16, CIFAR-10 Batch 5:  Loss:     0.4101 Validation Accuracy: 0.650400\n",
      "Epoch 17, CIFAR-10 Batch 1:  Loss:     0.5274 Validation Accuracy: 0.655200\n",
      "Epoch 17, CIFAR-10 Batch 2:  Loss:     0.3458 Validation Accuracy: 0.643800\n",
      "Epoch 17, CIFAR-10 Batch 3:  Loss:     0.3783 Validation Accuracy: 0.653800\n",
      "Epoch 17, CIFAR-10 Batch 4:  Loss:     0.3258 Validation Accuracy: 0.650200\n",
      "Epoch 17, CIFAR-10 Batch 5:  Loss:     0.4221 Validation Accuracy: 0.655400\n",
      "Epoch 18, CIFAR-10 Batch 1:  Loss:     0.4999 Validation Accuracy: 0.654000\n",
      "Epoch 18, CIFAR-10 Batch 2:  Loss:     0.3327 Validation Accuracy: 0.645800\n",
      "Epoch 18, CIFAR-10 Batch 3:  Loss:     0.3545 Validation Accuracy: 0.656200\n",
      "Epoch 18, CIFAR-10 Batch 4:  Loss:     0.3234 Validation Accuracy: 0.652800\n",
      "Epoch 18, CIFAR-10 Batch 5:  Loss:     0.3837 Validation Accuracy: 0.656400\n",
      "Epoch 19, CIFAR-10 Batch 1:  Loss:     0.4228 Validation Accuracy: 0.660600\n",
      "Epoch 19, CIFAR-10 Batch 2:  Loss:     0.3178 Validation Accuracy: 0.650600\n",
      "Epoch 19, CIFAR-10 Batch 3:  Loss:     0.3073 Validation Accuracy: 0.654200\n",
      "Epoch 19, CIFAR-10 Batch 4:  Loss:     0.2691 Validation Accuracy: 0.663600\n",
      "Epoch 19, CIFAR-10 Batch 5:  Loss:     0.3652 Validation Accuracy: 0.662200\n",
      "Epoch 20, CIFAR-10 Batch 1:  Loss:     0.4143 Validation Accuracy: 0.657400\n",
      "Epoch 20, CIFAR-10 Batch 2:  Loss:     0.2950 Validation Accuracy: 0.650800\n",
      "Epoch 20, CIFAR-10 Batch 3:  Loss:     0.3013 Validation Accuracy: 0.654200\n",
      "Epoch 20, CIFAR-10 Batch 4:  Loss:     0.2414 Validation Accuracy: 0.658200\n",
      "Epoch 20, CIFAR-10 Batch 5:  Loss:     0.3291 Validation Accuracy: 0.668200\n",
      "Epoch 21, CIFAR-10 Batch 1:  Loss:     0.3845 Validation Accuracy: 0.665400\n",
      "Epoch 21, CIFAR-10 Batch 2:  Loss:     0.2544 Validation Accuracy: 0.651800\n",
      "Epoch 21, CIFAR-10 Batch 3:  Loss:     0.2966 Validation Accuracy: 0.666800\n",
      "Epoch 21, CIFAR-10 Batch 4:  Loss:     0.2620 Validation Accuracy: 0.661800\n",
      "Epoch 21, CIFAR-10 Batch 5:  Loss:     0.3326 Validation Accuracy: 0.667800\n",
      "Epoch 22, CIFAR-10 Batch 1:  Loss:     0.3542 Validation Accuracy: 0.667400\n",
      "Epoch 22, CIFAR-10 Batch 2:  Loss:     0.2631 Validation Accuracy: 0.658400\n",
      "Epoch 22, CIFAR-10 Batch 3:  Loss:     0.2501 Validation Accuracy: 0.665800\n"
     ]
    },
    {
     "name": "stdout",
     "output_type": "stream",
     "text": [
      "Epoch 22, CIFAR-10 Batch 4:  Loss:     0.2237 Validation Accuracy: 0.665800\n",
      "Epoch 22, CIFAR-10 Batch 5:  Loss:     0.3178 Validation Accuracy: 0.669000\n",
      "Epoch 23, CIFAR-10 Batch 1:  Loss:     0.3499 Validation Accuracy: 0.669800\n",
      "Epoch 23, CIFAR-10 Batch 2:  Loss:     0.2354 Validation Accuracy: 0.660400\n",
      "Epoch 23, CIFAR-10 Batch 3:  Loss:     0.2349 Validation Accuracy: 0.667400\n",
      "Epoch 23, CIFAR-10 Batch 4:  Loss:     0.2147 Validation Accuracy: 0.666800\n",
      "Epoch 23, CIFAR-10 Batch 5:  Loss:     0.3171 Validation Accuracy: 0.668600\n",
      "Epoch 24, CIFAR-10 Batch 1:  Loss:     0.3152 Validation Accuracy: 0.672800\n",
      "Epoch 24, CIFAR-10 Batch 2:  Loss:     0.2159 Validation Accuracy: 0.657400\n",
      "Epoch 24, CIFAR-10 Batch 3:  Loss:     0.2309 Validation Accuracy: 0.669200\n",
      "Epoch 24, CIFAR-10 Batch 4:  Loss:     0.2167 Validation Accuracy: 0.671000\n",
      "Epoch 24, CIFAR-10 Batch 5:  Loss:     0.2913 Validation Accuracy: 0.670000\n",
      "Epoch 25, CIFAR-10 Batch 1:  Loss:     0.3330 Validation Accuracy: 0.663800\n",
      "Epoch 25, CIFAR-10 Batch 2:  Loss:     0.2090 Validation Accuracy: 0.653400\n",
      "Epoch 25, CIFAR-10 Batch 3:  Loss:     0.2056 Validation Accuracy: 0.667000\n",
      "Epoch 25, CIFAR-10 Batch 4:  Loss:     0.1905 Validation Accuracy: 0.670400\n",
      "Epoch 25, CIFAR-10 Batch 5:  Loss:     0.2650 Validation Accuracy: 0.669600\n",
      "Epoch 26, CIFAR-10 Batch 1:  Loss:     0.3084 Validation Accuracy: 0.669400\n",
      "Epoch 26, CIFAR-10 Batch 2:  Loss:     0.2186 Validation Accuracy: 0.656800\n",
      "Epoch 26, CIFAR-10 Batch 3:  Loss:     0.2214 Validation Accuracy: 0.675400\n",
      "Epoch 26, CIFAR-10 Batch 4:  Loss:     0.1836 Validation Accuracy: 0.669600\n",
      "Epoch 26, CIFAR-10 Batch 5:  Loss:     0.2397 Validation Accuracy: 0.675800\n",
      "Epoch 27, CIFAR-10 Batch 1:  Loss:     0.2786 Validation Accuracy: 0.674200\n",
      "Epoch 27, CIFAR-10 Batch 2:  Loss:     0.2305 Validation Accuracy: 0.643800\n",
      "Epoch 27, CIFAR-10 Batch 3:  Loss:     0.2124 Validation Accuracy: 0.672600\n",
      "Epoch 27, CIFAR-10 Batch 4:  Loss:     0.1637 Validation Accuracy: 0.669800\n",
      "Epoch 27, CIFAR-10 Batch 5:  Loss:     0.2208 Validation Accuracy: 0.677000\n",
      "Epoch 28, CIFAR-10 Batch 1:  Loss:     0.2964 Validation Accuracy: 0.672200\n",
      "Epoch 28, CIFAR-10 Batch 2:  Loss:     0.1746 Validation Accuracy: 0.668400\n",
      "Epoch 28, CIFAR-10 Batch 3:  Loss:     0.2028 Validation Accuracy: 0.675600\n",
      "Epoch 28, CIFAR-10 Batch 4:  Loss:     0.1483 Validation Accuracy: 0.677000\n",
      "Epoch 28, CIFAR-10 Batch 5:  Loss:     0.2204 Validation Accuracy: 0.674200\n",
      "Epoch 29, CIFAR-10 Batch 1:  Loss:     0.2701 Validation Accuracy: 0.675400\n",
      "Epoch 29, CIFAR-10 Batch 2:  Loss:     0.1457 Validation Accuracy: 0.665400\n",
      "Epoch 29, CIFAR-10 Batch 3:  Loss:     0.1835 Validation Accuracy: 0.675000\n",
      "Epoch 29, CIFAR-10 Batch 4:  Loss:     0.1682 Validation Accuracy: 0.669000\n",
      "Epoch 29, CIFAR-10 Batch 5:  Loss:     0.1909 Validation Accuracy: 0.678200\n",
      "Epoch 30, CIFAR-10 Batch 1:  Loss:     0.2501 Validation Accuracy: 0.674600\n",
      "Epoch 30, CIFAR-10 Batch 2:  Loss:     0.1529 Validation Accuracy: 0.673200\n",
      "Epoch 30, CIFAR-10 Batch 3:  Loss:     0.1703 Validation Accuracy: 0.678000\n",
      "Epoch 30, CIFAR-10 Batch 4:  Loss:     0.1611 Validation Accuracy: 0.672200\n",
      "Epoch 30, CIFAR-10 Batch 5:  Loss:     0.2001 Validation Accuracy: 0.679400\n",
      "Epoch 31, CIFAR-10 Batch 1:  Loss:     0.2212 Validation Accuracy: 0.678600\n",
      "Epoch 31, CIFAR-10 Batch 2:  Loss:     0.1491 Validation Accuracy: 0.676200\n",
      "Epoch 31, CIFAR-10 Batch 3:  Loss:     0.1689 Validation Accuracy: 0.678800\n",
      "Epoch 31, CIFAR-10 Batch 4:  Loss:     0.1347 Validation Accuracy: 0.672200\n",
      "Epoch 31, CIFAR-10 Batch 5:  Loss:     0.1742 Validation Accuracy: 0.681600\n",
      "Epoch 32, CIFAR-10 Batch 1:  Loss:     0.2037 Validation Accuracy: 0.677800\n",
      "Epoch 32, CIFAR-10 Batch 2:  Loss:     0.1225 Validation Accuracy: 0.676000\n",
      "Epoch 32, CIFAR-10 Batch 3:  Loss:     0.1537 Validation Accuracy: 0.684000\n",
      "Epoch 32, CIFAR-10 Batch 4:  Loss:     0.1317 Validation Accuracy: 0.674400\n",
      "Epoch 32, CIFAR-10 Batch 5:  Loss:     0.1550 Validation Accuracy: 0.678000\n",
      "Epoch 33, CIFAR-10 Batch 1:  Loss:     0.1918 Validation Accuracy: 0.681800\n",
      "Epoch 33, CIFAR-10 Batch 2:  Loss:     0.1241 Validation Accuracy: 0.673800\n",
      "Epoch 33, CIFAR-10 Batch 3:  Loss:     0.1459 Validation Accuracy: 0.683000\n",
      "Epoch 33, CIFAR-10 Batch 4:  Loss:     0.1252 Validation Accuracy: 0.673800\n",
      "Epoch 33, CIFAR-10 Batch 5:  Loss:     0.1383 Validation Accuracy: 0.679000\n",
      "Epoch 34, CIFAR-10 Batch 1:  Loss:     0.1859 Validation Accuracy: 0.681800\n",
      "Epoch 34, CIFAR-10 Batch 2:  Loss:     0.1158 Validation Accuracy: 0.677800\n",
      "Epoch 34, CIFAR-10 Batch 3:  Loss:     0.1373 Validation Accuracy: 0.669600\n",
      "Epoch 34, CIFAR-10 Batch 4:  Loss:     0.1196 Validation Accuracy: 0.674000\n",
      "Epoch 34, CIFAR-10 Batch 5:  Loss:     0.1480 Validation Accuracy: 0.681800\n",
      "Epoch 35, CIFAR-10 Batch 1:  Loss:     0.1910 Validation Accuracy: 0.681800\n",
      "Epoch 35, CIFAR-10 Batch 2:  Loss:     0.1119 Validation Accuracy: 0.674800\n",
      "Epoch 35, CIFAR-10 Batch 3:  Loss:     0.1333 Validation Accuracy: 0.674400\n",
      "Epoch 35, CIFAR-10 Batch 4:  Loss:     0.1145 Validation Accuracy: 0.674200\n",
      "Epoch 35, CIFAR-10 Batch 5:  Loss:     0.1269 Validation Accuracy: 0.680400\n",
      "Epoch 36, CIFAR-10 Batch 1:  Loss:     0.1631 Validation Accuracy: 0.676600\n",
      "Epoch 36, CIFAR-10 Batch 2:  Loss:     0.0925 Validation Accuracy: 0.676600\n",
      "Epoch 36, CIFAR-10 Batch 3:  Loss:     0.1299 Validation Accuracy: 0.675800\n",
      "Epoch 36, CIFAR-10 Batch 4:  Loss:     0.1130 Validation Accuracy: 0.679400\n",
      "Epoch 36, CIFAR-10 Batch 5:  Loss:     0.1329 Validation Accuracy: 0.682600\n",
      "Epoch 37, CIFAR-10 Batch 1:  Loss:     0.1654 Validation Accuracy: 0.685000\n",
      "Epoch 37, CIFAR-10 Batch 2:  Loss:     0.0936 Validation Accuracy: 0.684400\n",
      "Epoch 37, CIFAR-10 Batch 3:  Loss:     0.1171 Validation Accuracy: 0.677200\n",
      "Epoch 37, CIFAR-10 Batch 4:  Loss:     0.0973 Validation Accuracy: 0.676200\n",
      "Epoch 37, CIFAR-10 Batch 5:  Loss:     0.1277 Validation Accuracy: 0.683000\n",
      "Epoch 38, CIFAR-10 Batch 1:  Loss:     0.1597 Validation Accuracy: 0.682200\n",
      "Epoch 38, CIFAR-10 Batch 2:  Loss:     0.1038 Validation Accuracy: 0.681600\n",
      "Epoch 38, CIFAR-10 Batch 3:  Loss:     0.1097 Validation Accuracy: 0.679600\n",
      "Epoch 38, CIFAR-10 Batch 4:  Loss:     0.0975 Validation Accuracy: 0.681400\n",
      "Epoch 38, CIFAR-10 Batch 5:  Loss:     0.1078 Validation Accuracy: 0.687200\n",
      "Epoch 39, CIFAR-10 Batch 1:  Loss:     0.1616 Validation Accuracy: 0.682800\n",
      "Epoch 39, CIFAR-10 Batch 2:  Loss:     0.0893 Validation Accuracy: 0.680000\n",
      "Epoch 39, CIFAR-10 Batch 3:  Loss:     0.1101 Validation Accuracy: 0.686600\n",
      "Epoch 39, CIFAR-10 Batch 4:  Loss:     0.1018 Validation Accuracy: 0.676400\n",
      "Epoch 39, CIFAR-10 Batch 5:  Loss:     0.1090 Validation Accuracy: 0.681400\n",
      "Epoch 40, CIFAR-10 Batch 1:  Loss:     0.1234 Validation Accuracy: 0.688600\n",
      "Epoch 40, CIFAR-10 Batch 2:  Loss:     0.0767 Validation Accuracy: 0.689800\n",
      "Epoch 40, CIFAR-10 Batch 3:  Loss:     0.1081 Validation Accuracy: 0.682600\n",
      "Epoch 40, CIFAR-10 Batch 4:  Loss:     0.0771 Validation Accuracy: 0.679200\n",
      "Epoch 40, CIFAR-10 Batch 5:  Loss:     0.1067 Validation Accuracy: 0.681000\n",
      "Epoch 41, CIFAR-10 Batch 1:  Loss:     0.1367 Validation Accuracy: 0.690000\n",
      "Epoch 41, CIFAR-10 Batch 2:  Loss:     0.0757 Validation Accuracy: 0.690200\n",
      "Epoch 41, CIFAR-10 Batch 3:  Loss:     0.0830 Validation Accuracy: 0.683800\n",
      "Epoch 41, CIFAR-10 Batch 4:  Loss:     0.0830 Validation Accuracy: 0.681000\n",
      "Epoch 41, CIFAR-10 Batch 5:  Loss:     0.0875 Validation Accuracy: 0.692200\n",
      "Epoch 42, CIFAR-10 Batch 1:  Loss:     0.1193 Validation Accuracy: 0.691400\n",
      "Epoch 42, CIFAR-10 Batch 2:  Loss:     0.0689 Validation Accuracy: 0.681000\n",
      "Epoch 42, CIFAR-10 Batch 3:  Loss:     0.0883 Validation Accuracy: 0.683000\n",
      "Epoch 42, CIFAR-10 Batch 4:  Loss:     0.0764 Validation Accuracy: 0.685000\n",
      "Epoch 42, CIFAR-10 Batch 5:  Loss:     0.0866 Validation Accuracy: 0.685400\n",
      "Epoch 43, CIFAR-10 Batch 1:  Loss:     0.1145 Validation Accuracy: 0.689200\n",
      "Epoch 43, CIFAR-10 Batch 2:  Loss:     0.0765 Validation Accuracy: 0.679000\n",
      "Epoch 43, CIFAR-10 Batch 3:  Loss:     0.0869 Validation Accuracy: 0.672800\n",
      "Epoch 43, CIFAR-10 Batch 4:  Loss:     0.0675 Validation Accuracy: 0.685400\n",
      "Epoch 43, CIFAR-10 Batch 5:  Loss:     0.0729 Validation Accuracy: 0.686000\n",
      "Epoch 44, CIFAR-10 Batch 1:  Loss:     0.1089 Validation Accuracy: 0.692200\n"
     ]
    },
    {
     "name": "stdout",
     "output_type": "stream",
     "text": [
      "Epoch 44, CIFAR-10 Batch 2:  Loss:     0.0582 Validation Accuracy: 0.690200\n",
      "Epoch 44, CIFAR-10 Batch 3:  Loss:     0.0794 Validation Accuracy: 0.683400\n",
      "Epoch 44, CIFAR-10 Batch 4:  Loss:     0.0749 Validation Accuracy: 0.683600\n",
      "Epoch 44, CIFAR-10 Batch 5:  Loss:     0.0880 Validation Accuracy: 0.679400\n",
      "Epoch 45, CIFAR-10 Batch 1:  Loss:     0.1016 Validation Accuracy: 0.684000\n",
      "Epoch 45, CIFAR-10 Batch 2:  Loss:     0.0546 Validation Accuracy: 0.677400\n",
      "Epoch 45, CIFAR-10 Batch 3:  Loss:     0.0740 Validation Accuracy: 0.688200\n",
      "Epoch 45, CIFAR-10 Batch 4:  Loss:     0.0663 Validation Accuracy: 0.683000\n",
      "Epoch 45, CIFAR-10 Batch 5:  Loss:     0.0839 Validation Accuracy: 0.685000\n",
      "Epoch 46, CIFAR-10 Batch 1:  Loss:     0.1061 Validation Accuracy: 0.683400\n",
      "Epoch 46, CIFAR-10 Batch 2:  Loss:     0.0569 Validation Accuracy: 0.689800\n",
      "Epoch 46, CIFAR-10 Batch 3:  Loss:     0.0749 Validation Accuracy: 0.692400\n",
      "Epoch 46, CIFAR-10 Batch 4:  Loss:     0.0659 Validation Accuracy: 0.688800\n",
      "Epoch 46, CIFAR-10 Batch 5:  Loss:     0.0828 Validation Accuracy: 0.678600\n",
      "Epoch 47, CIFAR-10 Batch 1:  Loss:     0.0938 Validation Accuracy: 0.687800\n",
      "Epoch 47, CIFAR-10 Batch 2:  Loss:     0.0574 Validation Accuracy: 0.687200\n",
      "Epoch 47, CIFAR-10 Batch 3:  Loss:     0.0824 Validation Accuracy: 0.687000\n",
      "Epoch 47, CIFAR-10 Batch 4:  Loss:     0.0642 Validation Accuracy: 0.684000\n",
      "Epoch 47, CIFAR-10 Batch 5:  Loss:     0.0622 Validation Accuracy: 0.685200\n",
      "Epoch 48, CIFAR-10 Batch 1:  Loss:     0.1022 Validation Accuracy: 0.683600\n",
      "Epoch 48, CIFAR-10 Batch 2:  Loss:     0.0564 Validation Accuracy: 0.689600\n",
      "Epoch 48, CIFAR-10 Batch 3:  Loss:     0.0701 Validation Accuracy: 0.691400\n",
      "Epoch 48, CIFAR-10 Batch 4:  Loss:     0.0529 Validation Accuracy: 0.690000\n",
      "Epoch 48, CIFAR-10 Batch 5:  Loss:     0.0655 Validation Accuracy: 0.687800\n",
      "Epoch 49, CIFAR-10 Batch 1:  Loss:     0.1038 Validation Accuracy: 0.679000\n",
      "Epoch 49, CIFAR-10 Batch 2:  Loss:     0.0494 Validation Accuracy: 0.686200\n",
      "Epoch 49, CIFAR-10 Batch 3:  Loss:     0.0707 Validation Accuracy: 0.693000\n",
      "Epoch 49, CIFAR-10 Batch 4:  Loss:     0.0610 Validation Accuracy: 0.687200\n",
      "Epoch 49, CIFAR-10 Batch 5:  Loss:     0.0496 Validation Accuracy: 0.690400\n",
      "Epoch 50, CIFAR-10 Batch 1:  Loss:     0.0935 Validation Accuracy: 0.680600\n",
      "Epoch 50, CIFAR-10 Batch 2:  Loss:     0.0614 Validation Accuracy: 0.679600\n",
      "Epoch 50, CIFAR-10 Batch 3:  Loss:     0.0639 Validation Accuracy: 0.687600\n",
      "Epoch 50, CIFAR-10 Batch 4:  Loss:     0.0505 Validation Accuracy: 0.675200\n",
      "Epoch 50, CIFAR-10 Batch 5:  Loss:     0.0614 Validation Accuracy: 0.688400\n",
      "Epoch 51, CIFAR-10 Batch 1:  Loss:     0.0877 Validation Accuracy: 0.689200\n",
      "Epoch 51, CIFAR-10 Batch 2:  Loss:     0.0427 Validation Accuracy: 0.696800\n",
      "Epoch 51, CIFAR-10 Batch 3:  Loss:     0.0615 Validation Accuracy: 0.690600\n",
      "Epoch 51, CIFAR-10 Batch 4:  Loss:     0.0508 Validation Accuracy: 0.688800\n",
      "Epoch 51, CIFAR-10 Batch 5:  Loss:     0.0523 Validation Accuracy: 0.692800\n",
      "Epoch 52, CIFAR-10 Batch 1:  Loss:     0.0866 Validation Accuracy: 0.678200\n",
      "Epoch 52, CIFAR-10 Batch 2:  Loss:     0.0402 Validation Accuracy: 0.685200\n",
      "Epoch 52, CIFAR-10 Batch 3:  Loss:     0.0533 Validation Accuracy: 0.690800\n",
      "Epoch 52, CIFAR-10 Batch 4:  Loss:     0.0544 Validation Accuracy: 0.689400\n",
      "Epoch 52, CIFAR-10 Batch 5:  Loss:     0.0554 Validation Accuracy: 0.687200\n",
      "Epoch 53, CIFAR-10 Batch 1:  Loss:     0.0709 Validation Accuracy: 0.694400\n",
      "Epoch 53, CIFAR-10 Batch 2:  Loss:     0.0513 Validation Accuracy: 0.683600\n",
      "Epoch 53, CIFAR-10 Batch 3:  Loss:     0.0488 Validation Accuracy: 0.697400\n",
      "Epoch 53, CIFAR-10 Batch 4:  Loss:     0.0517 Validation Accuracy: 0.678800\n",
      "Epoch 53, CIFAR-10 Batch 5:  Loss:     0.0516 Validation Accuracy: 0.682200\n",
      "Epoch 54, CIFAR-10 Batch 1:  Loss:     0.0691 Validation Accuracy: 0.685600\n",
      "Epoch 54, CIFAR-10 Batch 2:  Loss:     0.0357 Validation Accuracy: 0.691400\n",
      "Epoch 54, CIFAR-10 Batch 3:  Loss:     0.0540 Validation Accuracy: 0.690000\n",
      "Epoch 54, CIFAR-10 Batch 4:  Loss:     0.0406 Validation Accuracy: 0.688800\n",
      "Epoch 54, CIFAR-10 Batch 5:  Loss:     0.0415 Validation Accuracy: 0.689800\n",
      "Epoch 55, CIFAR-10 Batch 1:  Loss:     0.0825 Validation Accuracy: 0.678600\n",
      "Epoch 55, CIFAR-10 Batch 2:  Loss:     0.0360 Validation Accuracy: 0.693800\n",
      "Epoch 55, CIFAR-10 Batch 3:  Loss:     0.0501 Validation Accuracy: 0.690600\n",
      "Epoch 55, CIFAR-10 Batch 4:  Loss:     0.0442 Validation Accuracy: 0.684000\n",
      "Epoch 55, CIFAR-10 Batch 5:  Loss:     0.0481 Validation Accuracy: 0.690200\n",
      "Epoch 56, CIFAR-10 Batch 1:  Loss:     0.0608 Validation Accuracy: 0.685600\n",
      "Epoch 56, CIFAR-10 Batch 2:  Loss:     0.0349 Validation Accuracy: 0.690800\n",
      "Epoch 56, CIFAR-10 Batch 3:  Loss:     0.0445 Validation Accuracy: 0.688200\n",
      "Epoch 56, CIFAR-10 Batch 4:  Loss:     0.0481 Validation Accuracy: 0.683000\n",
      "Epoch 56, CIFAR-10 Batch 5:  Loss:     0.0471 Validation Accuracy: 0.691200\n",
      "Epoch 57, CIFAR-10 Batch 1:  Loss:     0.0778 Validation Accuracy: 0.673000\n",
      "Epoch 57, CIFAR-10 Batch 2:  Loss:     0.0300 Validation Accuracy: 0.694400\n",
      "Epoch 57, CIFAR-10 Batch 3:  Loss:     0.0512 Validation Accuracy: 0.690600\n",
      "Epoch 57, CIFAR-10 Batch 4:  Loss:     0.0477 Validation Accuracy: 0.686400\n",
      "Epoch 57, CIFAR-10 Batch 5:  Loss:     0.0439 Validation Accuracy: 0.686800\n",
      "Epoch 58, CIFAR-10 Batch 1:  Loss:     0.0651 Validation Accuracy: 0.676800\n",
      "Epoch 58, CIFAR-10 Batch 2:  Loss:     0.0295 Validation Accuracy: 0.696200\n",
      "Epoch 58, CIFAR-10 Batch 3:  Loss:     0.0451 Validation Accuracy: 0.695600\n",
      "Epoch 58, CIFAR-10 Batch 4:  Loss:     0.0353 Validation Accuracy: 0.685200\n",
      "Epoch 58, CIFAR-10 Batch 5:  Loss:     0.0463 Validation Accuracy: 0.679400\n",
      "Epoch 59, CIFAR-10 Batch 1:  Loss:     0.0659 Validation Accuracy: 0.676000\n",
      "Epoch 59, CIFAR-10 Batch 2:  Loss:     0.0319 Validation Accuracy: 0.695800\n",
      "Epoch 59, CIFAR-10 Batch 3:  Loss:     0.0548 Validation Accuracy: 0.696800\n",
      "Epoch 59, CIFAR-10 Batch 4:  Loss:     0.0376 Validation Accuracy: 0.685200\n",
      "Epoch 59, CIFAR-10 Batch 5:  Loss:     0.0451 Validation Accuracy: 0.683400\n",
      "Epoch 60, CIFAR-10 Batch 1:  Loss:     0.0547 Validation Accuracy: 0.689200\n",
      "Epoch 60, CIFAR-10 Batch 2:  Loss:     0.0372 Validation Accuracy: 0.691400\n",
      "Epoch 60, CIFAR-10 Batch 3:  Loss:     0.0525 Validation Accuracy: 0.690000\n",
      "Epoch 60, CIFAR-10 Batch 4:  Loss:     0.0388 Validation Accuracy: 0.682400\n",
      "Epoch 60, CIFAR-10 Batch 5:  Loss:     0.0488 Validation Accuracy: 0.685600\n",
      "Epoch 61, CIFAR-10 Batch 1:  Loss:     0.0581 Validation Accuracy: 0.685000\n",
      "Epoch 61, CIFAR-10 Batch 2:  Loss:     0.0280 Validation Accuracy: 0.695000\n",
      "Epoch 61, CIFAR-10 Batch 3:  Loss:     0.0474 Validation Accuracy: 0.689600\n",
      "Epoch 61, CIFAR-10 Batch 4:  Loss:     0.0356 Validation Accuracy: 0.692800\n",
      "Epoch 61, CIFAR-10 Batch 5:  Loss:     0.0458 Validation Accuracy: 0.685400\n",
      "Epoch 62, CIFAR-10 Batch 1:  Loss:     0.0524 Validation Accuracy: 0.685400\n",
      "Epoch 62, CIFAR-10 Batch 2:  Loss:     0.0272 Validation Accuracy: 0.696000\n",
      "Epoch 62, CIFAR-10 Batch 3:  Loss:     0.0470 Validation Accuracy: 0.687200\n",
      "Epoch 62, CIFAR-10 Batch 4:  Loss:     0.0311 Validation Accuracy: 0.692000\n",
      "Epoch 62, CIFAR-10 Batch 5:  Loss:     0.0424 Validation Accuracy: 0.690200\n",
      "Epoch 63, CIFAR-10 Batch 1:  Loss:     0.0550 Validation Accuracy: 0.684600\n",
      "Epoch 63, CIFAR-10 Batch 2:  Loss:     0.0290 Validation Accuracy: 0.693400\n",
      "Epoch 63, CIFAR-10 Batch 3:  Loss:     0.0481 Validation Accuracy: 0.687400\n",
      "Epoch 63, CIFAR-10 Batch 4:  Loss:     0.0283 Validation Accuracy: 0.687000\n",
      "Epoch 63, CIFAR-10 Batch 5:  Loss:     0.0385 Validation Accuracy: 0.687600\n",
      "Epoch 64, CIFAR-10 Batch 1:  Loss:     0.0511 Validation Accuracy: 0.687800\n",
      "Epoch 64, CIFAR-10 Batch 2:  Loss:     0.0236 Validation Accuracy: 0.691000\n",
      "Epoch 64, CIFAR-10 Batch 3:  Loss:     0.0505 Validation Accuracy: 0.684400\n",
      "Epoch 64, CIFAR-10 Batch 4:  Loss:     0.0359 Validation Accuracy: 0.675800\n",
      "Epoch 64, CIFAR-10 Batch 5:  Loss:     0.0449 Validation Accuracy: 0.687800\n",
      "Epoch 65, CIFAR-10 Batch 1:  Loss:     0.0531 Validation Accuracy: 0.681600\n",
      "Epoch 65, CIFAR-10 Batch 2:  Loss:     0.0236 Validation Accuracy: 0.684800\n",
      "Epoch 65, CIFAR-10 Batch 3:  Loss:     0.0403 Validation Accuracy: 0.691000\n",
      "Epoch 65, CIFAR-10 Batch 4:  Loss:     0.0289 Validation Accuracy: 0.687600\n"
     ]
    },
    {
     "name": "stdout",
     "output_type": "stream",
     "text": [
      "Epoch 65, CIFAR-10 Batch 5:  Loss:     0.0400 Validation Accuracy: 0.693200\n"
     ]
    }
   ],
   "source": [
    "\"\"\"\n",
    "DON'T MODIFY ANYTHING IN THIS CELL\n",
    "\"\"\"\n",
    "save_model_path = './image_classification'\n",
    "\n",
    "print('Training...')\n",
    "with tf.Session() as sess:\n",
    "    # Initializing the variables\n",
    "    sess.run(tf.global_variables_initializer())\n",
    "    \n",
    "    # Training cycle\n",
    "    for epoch in range(epochs):\n",
    "        # Loop over all batches\n",
    "        n_batches = 5\n",
    "        for batch_i in range(1, n_batches + 1):\n",
    "            for batch_features, batch_labels in helper.load_preprocess_training_batch(batch_i, batch_size):\n",
    "                train_neural_network(sess, optimizer, keep_probability, batch_features, batch_labels)\n",
    "            print('Epoch {:>2}, CIFAR-10 Batch {}:  '.format(epoch + 1, batch_i), end='')\n",
    "            print_stats(sess, batch_features, batch_labels, cost, accuracy)\n",
    "            \n",
    "    # Save Model\n",
    "    saver = tf.train.Saver()\n",
    "    save_path = saver.save(sess, save_model_path)"
   ]
  },
  {
   "cell_type": "markdown",
   "metadata": {},
   "source": [
    "# Checkpoint\n",
    "The model has been saved to disk.\n",
    "## Test Model\n",
    "Test your model against the test dataset.  This will be your final accuracy. You should have an accuracy greater than 50%. If you don't, keep tweaking the model architecture and parameters."
   ]
  },
  {
   "cell_type": "code",
   "execution_count": 18,
   "metadata": {},
   "outputs": [
    {
     "name": "stdout",
     "output_type": "stream",
     "text": [
      "INFO:tensorflow:Restoring parameters from ./image_classification\n",
      "Testing Accuracy: 0.67685546875\n",
      "\n"
     ]
    },
    {
     "data": {
      "image/png": "[encoded data removed]",
      "text/plain": [
       "<matplotlib.figure.Figure at 0x7ff34bf52358>"
      ]
     },
     "metadata": {
      "image/png": {
       "height": 319,
       "width": 355
      }
     },
     "output_type": "display_data"
    }
   ],
   "source": [
    "\"\"\"\n",
    "DON'T MODIFY ANYTHING IN THIS CELL\n",
    "\"\"\"\n",
    "%matplotlib inline\n",
    "%config InlineBackend.figure_format = 'retina'\n",
    "\n",
    "import tensorflow as tf\n",
    "import pickle\n",
    "import helper\n",
    "import random\n",
    "\n",
    "# Set batch size if not already set\n",
    "try:\n",
    "    if batch_size:\n",
    "        pass\n",
    "except NameError:\n",
    "    batch_size = 64\n",
    "\n",
    "save_model_path = './image_classification'\n",
    "n_samples = 4\n",
    "top_n_predictions = 3\n",
    "\n",
    "def test_model():\n",
    "    \"\"\"\n",
    "    Test the saved model against the test dataset\n",
    "    \"\"\"\n",
    "\n",
    "    test_features, test_labels = pickle.load(open('preprocess_training.p', mode='rb'))\n",
    "    loaded_graph = tf.Graph()\n",
    "\n",
    "    with tf.Session(graph=loaded_graph) as sess:\n",
    "        # Load model\n",
    "        loader = tf.train.import_meta_graph(save_model_path + '.meta')\n",
    "        loader.restore(sess, save_model_path)\n",
    "\n",
    "        # Get Tensors from loaded model\n",
    "        loaded_x = loaded_graph.get_tensor_by_name('x:0')\n",
    "        loaded_y = loaded_graph.get_tensor_by_name('y:0')\n",
    "        loaded_keep_prob = loaded_graph.get_tensor_by_name('keep_prob:0')\n",
    "        loaded_logits = loaded_graph.get_tensor_by_name('logits:0')\n",
    "        loaded_acc = loaded_graph.get_tensor_by_name('accuracy:0')\n",
    "        \n",
    "        # Get accuracy in batches for memory limitations\n",
    "        test_batch_acc_total = 0\n",
    "        test_batch_count = 0\n",
    "        \n",
    "        for train_feature_batch, train_label_batch in helper.batch_features_labels(test_features, test_labels, batch_size):\n",
    "            test_batch_acc_total += sess.run(\n",
    "                loaded_acc,\n",
    "                feed_dict={loaded_x: train_feature_batch, loaded_y: train_label_batch, loaded_keep_prob: 1.0})\n",
    "            test_batch_count += 1\n",
    "\n",
    "        print('Testing Accuracy: {}\\n'.format(test_batch_acc_total/test_batch_count))\n",
    "\n",
    "        # Print Random Samples\n",
    "        random_test_features, random_test_labels = tuple(zip(*random.sample(list(zip(test_features, test_labels)), n_samples)))\n",
    "        random_test_predictions = sess.run(\n",
    "            tf.nn.top_k(tf.nn.softmax(loaded_logits), top_n_predictions),\n",
    "            feed_dict={loaded_x: random_test_features, loaded_y: random_test_labels, loaded_keep_prob: 1.0})\n",
    "        helper.display_image_predictions(random_test_features, random_test_labels, random_test_predictions)\n",
    "\n",
    "\n",
    "test_model()"
   ]
  },
  {
   "cell_type": "markdown",
   "metadata": {},
   "source": [
    "## Why 50-70% Accuracy?\n",
    "You might be wondering why you can't get an accuracy any higher. First things first, 50% isn't bad for a simple CNN.  Pure guessing would get you 10% accuracy. However, you might notice people are getting scores [well above 70%](http://rodrigob.github.io/are_we_there_yet/build/classification_datasets_results.html#43494641522d3130).  That's because we haven't taught you all there is to know about neural networks. We still need to cover a few more techniques.\n",
    "## Submitting This Project\n",
    "When submitting this project, make sure to run all the cells before saving the notebook.  Save the notebook file as \"dlnd_image_classification.ipynb\" and save it as a HTML file under \"File\" -> \"Download as\".  Include the \"helper.py\" and \"problem_unittests.py\" files in your submission."
   ]
  },
  {
   "cell_type": "code",
   "execution_count": null,
   "metadata": {
    "collapsed": true
   },
   "outputs": [],
   "source": []
  }
 ],
 "metadata": {
  "kernelspec": {
   "display_name": "Python 3",
   "language": "python",
   "name": "python3"
  },
  "language_info": {
   "codemirror_mode": {
    "name": "ipython",
    "version": 3
   },
   "file_extension": ".py",
   "mimetype": "text/x-python",
   "name": "python",
   "nbconvert_exporter": "python",
   "pygments_lexer": "ipython3",
   "version": "3.5.3"
  }
 },
 "nbformat": 4,
 "nbformat_minor": 1
}
